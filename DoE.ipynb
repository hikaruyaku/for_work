{
  "nbformat": 4,
  "nbformat_minor": 0,
  "metadata": {
    "colab": {
      "provenance": [],
      "include_colab_link": true
    },
    "kernelspec": {
      "name": "python3",
      "display_name": "Python 3"
    }
  },
  "cells": [
    {
      "cell_type": "markdown",
      "metadata": {
        "id": "view-in-github",
        "colab_type": "text"
      },
      "source": [
        "<a href=\"https://colab.research.google.com/github/hikaruyaku/for_work/blob/master/DoE.ipynb\" target=\"_parent\"><img src=\"https://colab.research.google.com/assets/colab-badge.svg\" alt=\"Open In Colab\"/></a>"
      ]
    },
    {
      "cell_type": "markdown",
      "metadata": {
        "id": "ZxWl2-s-1PAS"
      },
      "source": [
        "## Create the experimental condition (DoE)\n",
        "このページでは直交表の作成を行う。  \n",
        "- 実験計画や直交表については、[こちら](https://github.com/hikaruyaku/for_work/blob/master/DoE/%E5%AE%9F%E9%A8%93%E8%A8%88%E7%94%BB%E3%81%AB%E3%81%A4%E3%81%84%E3%81%A6.md)のページで確認すること。\n",
        "- 実験計画については[明治大学の金子先生](https://datachemeng.com/designofexperimentscodes/)のページが詳しい。こちらにもサンプルのコードがある。\n",
        "- 今回は、関数にすることや、Google Colabにすることで、誰でも直交表が出来る様にすることが目的。\n"
      ]
    },
    {
      "cell_type": "code",
      "metadata": {
        "id": "O-cCnjRd1Jxp"
      },
      "source": [
        "# import libralies\n",
        "import numpy as np\n",
        "import pandas as pd\n",
        "from sklearn.model_selection import ParameterGrid\n",
        "\n",
        "# set up the condition of experiment\n",
        "\"\"\"\n",
        "please fill in the experiment condition.\n",
        "variables = {\"condition 1\" : [x1, x2, x3, x4, x5],  ← fill conditions in []\n",
        "　           \"condition 2\" : [y1, y2, y3, y4, y5],\n",
        "             \"condition 3\" : [z1, z2, z3, z4, z5]}\n",
        "you can change the number of conditions.\n",
        "\"\"\"\n",
        "\n",
        "variables = {\"variable1\" : [1, 2.5, 3, 4, 5],\n",
        "             \"variable2\" : [-10, 0, 10, 20],\n",
        "             \"variable3\" : [0.2, 0.6, 0.8, 1, 1.2]}\n",
        "\n",
        "# store the expemtal condition to DataFrame\n",
        "df_exp_cond = pd.DataFrame(list(ParameterGrid(variables)))"
      ],
      "execution_count": null,
      "outputs": []
    },
    {
      "cell_type": "code",
      "metadata": {
        "id": "SbTLMqJ628jw"
      },
      "source": [
        "# set up the number of experiments\n",
        "\"\"\"\n",
        "please fill in the number of experiments.\n",
        "\"\"\"\n",
        "\n",
        "experiments_nb = 30"
      ],
      "execution_count": null,
      "outputs": []
    },
    {
      "cell_type": "code",
      "metadata": {
        "id": "n3TST-zm5WXe"
      },
      "source": [
        "# 行列式の値を全てアレイに入れる\n",
        "values = []\n",
        "for i in range(1000):\n",
        "  df_exp_cond_search = df_exp_cond.sample(frac=1, random_state= i)\n",
        "  X = df_exp_cond_search.iloc[:experiments_nb, :].values\n",
        "  XT = X.T\n",
        "  det_value = np.linalg.det(np.dot(XT, X))\n",
        "  values.append(det_value)\n",
        "\n",
        "# extract the number of experiments (which is ordered by you)\n",
        "df_result = df_exp_cond.sample(frac=1, random_state=np.argmax(values))\n",
        "df_result = df_result[: experiments_nb]\n",
        "\n",
        "# create the condition of experiments and download as a csv file.\n",
        "from google.colab import files\n",
        "df_result.to_csv(\"result.csv\", encoding=\"SHIFT-JIS\")\n",
        "files.download(\"result.csv\")"
      ],
      "execution_count": null,
      "outputs": []
    }
  ]
}