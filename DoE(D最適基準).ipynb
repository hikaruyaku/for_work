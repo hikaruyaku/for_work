{
  "nbformat": 4,
  "nbformat_minor": 0,
  "metadata": {
    "colab": {
      "name": "DoE(D最適基準).ipynb",
      "provenance": [],
      "authorship_tag": "ABX9TyOUdXmC4JaVdZqiJSuFlhu4",
      "include_colab_link": true
    },
    "kernelspec": {
      "name": "python3",
      "display_name": "Python 3"
    }
  },
  "cells": [
    {
      "cell_type": "markdown",
      "metadata": {
        "id": "view-in-github",
        "colab_type": "text"
      },
      "source": [
        "<a href=\"https://colab.research.google.com/github/hikaruyaku/for_work/blob/master/DoE(D%E6%9C%80%E9%81%A9%E5%9F%BA%E6%BA%96).ipynb\" target=\"_parent\"><img src=\"https://colab.research.google.com/assets/colab-badge.svg\" alt=\"Open In Colab\"/></a>"
      ]
    },
    {
      "cell_type": "markdown",
      "metadata": {
        "id": "ZxWl2-s-1PAS",
        "colab_type": "text"
      },
      "source": [
        "## 直交表の作成\n",
        "このページでは直交表の作成を行う。  \n",
        "- 実験計画や直交表については、[こちら]()のページで確認すること。\n",
        "- 実験計画については[明治大学の金子先生](https://datachemeng.com/designofexperimentscodes/)のページが詳しい。こちらにもサンプルのコードがある。\n",
        "- 今回は、関数にすることや、Google Colabにすることで、誰でも直交表が出来る様にすることが目的。\n"
      ]
    },
    {
      "cell_type": "code",
      "metadata": {
        "id": "O-cCnjRd1Jxp",
        "colab_type": "code",
        "colab": {
          "base_uri": "https://localhost:8080/",
          "height": 266
        },
        "outputId": "1aaa8ebf-814e-40c1-ee09-4872ecd0237a"
      },
      "source": [
        "# ライブラリの読込\n",
        "import numpy as np\n",
        "import pandas as pd\n",
        "import optuna\n",
        "from sklearn.model_selection import ParameterGrid\n",
        "\n",
        "# 実験条件の設定\n",
        "\"\"\"\n",
        "以下に実験条件を例の通り、記載してください。\n",
        "variables = {\"ここに実験条件名を入れる\" : [x1, x2, x3, x4, x5],  ← xの部分に実験条件の水準を入れる。\n",
        "　           \"実験条件2\" : [y1, y2, y3, y4, y5], \n",
        "             \"実験条件3\" : [z1, z2, z3, z4, z5]} ← 最後は\"}\"で閉める\n",
        "\"\"\"\n",
        "\n",
        "variables = {\"variable1\" : [1, 2.5, 3, 4, 5],\n",
        "             \"variable2\" : [-10, 0, 10, 20],\n",
        "             \"variable3\" : [0.2, 0.6, 0.8, 1, 1.2]}\n",
        "\n",
        "# 実験内容を DataFrame に格納。\n",
        "df_exp_cond = pd.DataFrame(list(ParameterGrid(variables)))"
      ],
      "execution_count": 31,
      "outputs": [
        {
          "output_type": "execute_result",
          "data": {
            "text/plain": [
              "<bound method NDFrame.head of     variable1  variable2  variable3\n",
              "0         1.0        -10        0.2\n",
              "1         1.0        -10        0.6\n",
              "2         1.0        -10        0.8\n",
              "3         1.0        -10        1.0\n",
              "4         1.0        -10        1.2\n",
              "..        ...        ...        ...\n",
              "95        5.0         20        0.2\n",
              "96        5.0         20        0.6\n",
              "97        5.0         20        0.8\n",
              "98        5.0         20        1.0\n",
              "99        5.0         20        1.2\n",
              "\n",
              "[100 rows x 3 columns]>"
            ]
          },
          "metadata": {
            "tags": []
          },
          "execution_count": 31
        }
      ]
    },
    {
      "cell_type": "code",
      "metadata": {
        "id": "SbTLMqJ628jw",
        "colab_type": "code",
        "colab": {}
      },
      "source": [
        "# 実験条件数の指定\n",
        "\"\"\"\n",
        "実験条件数を以下に入れる\n",
        "\"\"\"\n",
        "\n",
        "experiments_nb = 30"
      ],
      "execution_count": 0,
      "outputs": []
    },
    {
      "cell_type": "code",
      "metadata": {
        "id": "n3TST-zm5WXe",
        "colab_type": "code",
        "colab": {}
      },
      "source": [
        "# 行列式の値を全てアレイに入れる\n",
        "values = []\n",
        "for i in range(1000):\n",
        "  df_exp_cond_search = df_exp_cond.sample(frac=1, random_state= i)\n",
        "  X = df_exp_cond_search.iloc[:experiments_nb, :].values\n",
        "  XT = X.T\n",
        "  det_value = np.linalg.det(np.dot(XT, X))\n",
        "  values.append(det_value)\n",
        "\n",
        "# 最大値のある行での実験計画を抜出\n",
        "df_result = df_exp_cond.sample(frac=1, random_state=np.argmax(values))\n",
        "df_result = df_result[: experiments_nb]\n",
        "\n",
        "# ローカル環境に実験条件をcsvにして出力\n",
        "from google.colab import files\n",
        "df_result.to_csv(\"result.csv\")\n",
        "files.download(\"result.csv\")"
      ],
      "execution_count": 0,
      "outputs": []
    }
  ]
}