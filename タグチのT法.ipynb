{
  "nbformat": 4,
  "nbformat_minor": 0,
  "metadata": {
    "colab": {
      "name": "タグチのT法.ipynb",
      "provenance": [],
      "authorship_tag": "ABX9TyOKrcCO9IWQh6M0Kk4xUol9",
      "include_colab_link": true
    },
    "kernelspec": {
      "name": "python3",
      "display_name": "Python 3"
    }
  },
  "cells": [
    {
      "cell_type": "markdown",
      "metadata": {
        "id": "view-in-github",
        "colab_type": "text"
      },
      "source": [
        "<a href=\"https://colab.research.google.com/github/hikaruyaku/for_work/blob/master/%E3%82%BF%E3%82%B0%E3%83%81%E3%81%AET%E6%B3%95.ipynb\" target=\"_parent\"><img src=\"https://colab.research.google.com/assets/colab-badge.svg\" alt=\"Open In Colab\"/></a>"
      ]
    },
    {
      "cell_type": "markdown",
      "metadata": {
        "id": "TzGBP5h3Oplx",
        "colab_type": "text"
      },
      "source": [
        "# タグチの T 法\n",
        "この項では、田口玄一氏の T 法についてを自分の認識とコードを記載していく。  \n",
        "参考資料として、[田口氏の論文](https://www.jstage.jst.go.jp/article/qes/13/3/13_5/_pdf/-char/ja)及び、こちらの [H.P.](https://deepblue-ts.co.jp/%E7%B5%B1%E8%A8%88%E5%AD%A6/%E3%82%BF%E3%82%B0%E3%83%81%E3%81%AEt%E6%B3%95/) を挙げる。"
      ]
    },
    {
      "cell_type": "markdown",
      "metadata": {
        "id": "qk7tXlxwSTSG",
        "colab_type": "text"
      },
      "source": [
        "### タグチ法の総括\n",
        "多変量に関するタグチの方法を総括すれば、\n",
        "1. 出力(予測の場合は実測値)の分布をみてその値が一定になる単位空間を決める。決め方は自由であるが、汎用技術としては、分布密度が最も高い所、またはその近くで選ぶのがよい。\n"
      ]
    },
    {
      "cell_type": "markdown",
      "metadata": {
        "id": "IOgeSCr3PMZb",
        "colab_type": "text"
      },
      "source": [
        "## T 法についての説明  \n",
        "これまで、TS法について検討していた。その特徴は  \n",
        "- シュミットの直交展開を利用して、単位空間に属さない個々の信号に対するパターン差を計算して予測や推定の精度をよくする。\n",
        "- 問題点は直交展開の計算に時間がかかる。  \n",
        "\n",
        "この特徴・問題を解決する為に、**直交展開をしないである程度のパターン差を考えた予測や推定の方法を考えた**結果がT 法になる。特徴としては、  \n",
        "- タグチメソッドの特徴である SN 比で最終判断すると共にいくつかの予測方法がある時に、それぞれをその SN 比の重みで総合予測をし、予測と真値から求めた総合的 SN 比で最終的判断する。  \n",
        "- 単位空間は今まで通り作るが、出力についても項目についても単位空間の平均値を単位空間の個々のメンバーからも信号のメンバーからも引いた値(基準化データ)を計算に使う。\n",
        "- 規格化後の信号出力である目的特性値を $M$ 、信号の項目の値を $x$ で示す。  \n",
        "\n",
        "また、単位空間の選択は情報システムの設計の上で最も大切な制御因子で、次の 2 条件を満たすことが望ましい。  \n",
        "1. **単位空間は結果が出来るだけ均一である。**　  \n",
        "  例として、来年の売り上げの伸びを予測したいなら、歴史的データとして伸び率が 0% (今年の売り上げが昨年と同じ) の机上を集めて単位空間とする。  \n",
        "1. **単位空間は中央であるかその近傍でなければならない。**  \n",
        "  例えば多くの企業の売り上げの昨年に対する比率が平均して 101.2% の時、101.2% の企業を集めてもよいし、100% がかなり多いなら 100% でもよい。単位空間を昨年に対する今年の売上が 100% とし、その企業数が $n$ 社とする。企業数 $n$ は1でもよい。\n",
        "\n"
      ]
    },
    {
      "cell_type": "code",
      "metadata": {
        "id": "_CrVxTi1Ol9A",
        "colab_type": "code",
        "colab": {}
      },
      "source": [
        ""
      ],
      "execution_count": 0,
      "outputs": []
    }
  ]
}