{
  "nbformat": 4,
  "nbformat_minor": 0,
  "metadata": {
    "colab": {
      "name": "Untitled11.ipynb",
      "provenance": [],
      "authorship_tag": "ABX9TyNn1xYYmbfuLxeQojtCxNeN",
      "include_colab_link": true
    },
    "kernelspec": {
      "name": "python3",
      "display_name": "Python 3"
    },
    "language_info": {
      "name": "python"
    }
  },
  "cells": [
    {
      "cell_type": "markdown",
      "metadata": {
        "id": "view-in-github",
        "colab_type": "text"
      },
      "source": [
        "<a href=\"https://colab.research.google.com/github/hikaruyaku/for_work/blob/master/Membrane_simulator.ipynb\" target=\"_parent\"><img src=\"https://colab.research.google.com/assets/colab-badge.svg\" alt=\"Open In Colab\"/></a>"
      ]
    },
    {
      "cell_type": "markdown",
      "metadata": {
        "id": "GjUZDNaSU6SU"
      },
      "source": [
        "# 膜分離モジュールのシミュレーター\n",
        "\n",
        "## 作成の経緯\n",
        "Excelのマクロで組んだらクソofクソの遅さなので，python で作成する．"
      ]
    },
    {
      "cell_type": "code",
      "metadata": {
        "id": "_M4EqwlxUy6V"
      },
      "source": [
        "# Import Libraries\n",
        "\n",
        "import pandas as pd\n",
        "import numpy as np\n",
        "import matplotlib.pyplot as plt\n",
        "import seaborn as sns\n",
        "import math\n",
        "from scipy.optimize import minimize"
      ],
      "execution_count": 11,
      "outputs": []
    },
    {
      "cell_type": "markdown",
      "metadata": {
        "id": "Y0pf5UboYQO_"
      },
      "source": [
        "## 使い方\n",
        "下の記入フォームを記載した後，`Ctrl + F9`を押す．"
      ]
    },
    {
      "cell_type": "code",
      "metadata": {
        "id": "9HAi5BqhVhZz",
        "cellView": "form"
      },
      "source": [
        "#@title 記入フォーム\n",
        "#@markdown 前提条件を記載してください．\n",
        "\n",
        "#@markdown フィード流量=kg/h, 初期温度=℃, 操作圧力 = kPaA\n",
        "\n",
        "\n",
        "膜の単位数 = 1000  #@param {type: \"slider\", min: 10, max: 1000}\n",
        "膜本数 = 2000  #@param {type: \"number\"}\n",
        "フィード流量 = 15000  #@param {type: \"number\"}\n",
        "水の重量濃度 = 0.53  #@param {type: \"number\"}\n",
        "初期温度 = 130  #@param {type: \"number\"}\n",
        "操作圧力_kPaA = 10  #@param {type: \"number\"}\n",
        "\n",
        "#@markdown ---\n"
      ],
      "execution_count": 8,
      "outputs": []
    },
    {
      "cell_type": "markdown",
      "metadata": {
        "id": "fCqieNVuYZku"
      },
      "source": [
        "## 前提条件"
      ]
    },
    {
      "cell_type": "code",
      "metadata": {
        "id": "ZqndCuRCWD6n"
      },
      "source": [
        "# 物性\n",
        "## Antoine 定数\n",
        "A_h2o = 7.07\n",
        "B_h2o = 1657.46\n",
        "C_h2o = 227.02\n",
        "A_acoh = 6.42452\n",
        "B_acoh = 1479.02\n",
        "C_acoh = 216.81\n",
        "## wilson の活量係数\n",
        "Lambda_11 = 3351.51\n",
        "Lambda_12 = 29.6876\n",
        "## ガス透過係数\n",
        "Q_h2o = 5e-6\n",
        "Q_acoh = 1.25e-8\n",
        "## 膜厚\n",
        "sigma = 1e-5\n",
        "## 分子量\n",
        "mw_h2o = 18\n",
        "mw_acoh = 60\n",
        "## 顕熱[kJ/mol*K]\n",
        "Cp_h2o = 0.0756\n",
        "Cp_acoh = 0.1292\n",
        "## 潜熱[kJ/mol]\n",
        "h_h2o = 40.7\n",
        "h_acoh = 24.4\n",
        "## 活量係数\n",
        "gamma_h2o = 0.00389\n",
        "gamma_acog = 0.00387"
      ],
      "execution_count": 9,
      "outputs": []
    },
    {
      "cell_type": "code",
      "metadata": {
        "id": "b2dWGqGzWGC_"
      },
      "source": [
        "# 膜特性\n",
        "ID = 0.012\n",
        "L = 0.7\n",
        "N = 膜本数\n",
        "length = L/膜の単位数\n",
        "\n",
        "# 膜の面積も出しちゃう\n",
        "dA = 0.012*math.pi*length"
      ],
      "execution_count": 6,
      "outputs": []
    },
    {
      "cell_type": "markdown",
      "metadata": {
        "id": "sKx0fL7VYdQ1"
      },
      "source": [
        "## 関数"
      ]
    },
    {
      "cell_type": "code",
      "metadata": {
        "id": "g7Hncoi0X4hw"
      },
      "source": [
        "# Antoineでの蒸気圧の出す関数\n",
        "\n",
        "def antoine_func(a,b,c,T):\n",
        "  p_ast = 10 ** (a-b/(c+T))\n",
        "  return p_ast\n",
        "\n",
        "# dL1 を出す関数\n",
        "def dl_1(Temp, x, yp):\n",
        "  dl_1 = Q_h2o / sigma * ( gamma_h2o * antoine_funk(A_h2o,B_h2o,C_h2o,Temp) * x - 操作圧力_kPaA * yp ) * dA\n",
        "  return dl_1\n",
        "# dL2 を出す関数\n",
        "def dl_2(Temp, x, yp):\n",
        "  dl_2 = Q_acoh / sigma * ( gamma_h2o * antoine_funk(A_acoh,B_acoh,C_acoh,Temp)*(1-x) - 操作圧力_kPaA * (1-yp) ) * dA\n",
        "  return dl_2\n",
        "\n",
        "# 蒸気透過後の温度を出す関数\n",
        "def temp_cal(l_h2o,l_acoh,v_h2o,v_acoh):\n",
        "  delta_temp = (v_h2o * h_h2o + v_acoh * h_acoh)/1000/(l_h2o * Cp_h2o + l_acoh * Cp_acoh)\n",
        "  return delta_temp"
      ],
      "execution_count": 19,
      "outputs": []
    },
    {
      "cell_type": "markdown",
      "metadata": {
        "id": "AE902JeGdcbM"
      },
      "source": [
        "## 本計算\n",
        "- 本計算は `for`文を用いた繰り返し計算を行う．\n",
        "- また `for` 文内で，マテリアルバランスの式と膜透過の式の連立方程式を解く．\n",
        "\n",
        "$$\n",
        "\\begin{eqnarray}\n",
        "\\frac{dL_1}{dA} &=& -\\frac{Q_1}{\\sigma}(\\gamma_1 p_1^*x - p_1y_p)  \\\\\n",
        "\\frac{dL_2}{dA} &=& -\\frac{Q_2}{\\sigma}(\\gamma_2 p_2^*(1-x) - p_1(1-y_p)) \\\\\n",
        "(dL_1 + dL_2)  y_p &=& dL_1\n",
        "\\end{eqnarray}\n",
        "$$\n",
        "\n",
        "上記の3つの式を用いると\n",
        "\n",
        "$$\n",
        "[\\frac{Q_1}{\\sigma}((\\gamma_1 p_1^*x - p_1y_p)dA+\\frac{Q_2}{\\sigma}(\\gamma_2 p_2^*(1-x) - p_1(1-y_p))]dAy_p = \\frac{Q_1}{\\sigma}(\\gamma_1 p_1^*x - p_1y_p)dA\n",
        "$$\n",
        "\n",
        "$y_p$に関する2次関数が出来る．  \n",
        "これが0になるように収束計算を行う．"
      ]
    },
    {
      "cell_type": "code",
      "metadata": {
        "id": "a8Dd0NqmX6PD",
        "colab": {
          "base_uri": "https://localhost:8080/"
        },
        "outputId": "ee71f6f2-922f-4314-ad78-d8d919df8b70"
      },
      "source": [
        "mass_frac_h2o = 水の重量濃度\n",
        "feed = フィード流量\n",
        "\n",
        "t_temp = 初期温度\n",
        "p_1_ast_temp = antoine_func(A_h2o,B_h2o,C_h2o,t_temp) \n",
        "p_2_ast_temp = antoine_func(A_acoh,B_acoh,C_acoh,t_temp)\n",
        "x_temp = (mass_frac_h2o * feed / mw_h2o) / ((mass_frac_h2o * feed /mw_h2o)+((1-mass_frac_h2o)*feed / mw_acoh))\n",
        "\n",
        "def opt_target(yp):\n",
        "  return ((yp * (dl_1(t_temp,x_temp,yp)+dl_2(t_temp,x_temp,yp)) - dl_1(t_temp,x_temp,yp))*10e+6)**2 # 2乗にすることで，最小値を0以上にする．\n",
        "\n",
        "def cons(yp):\n",
        "  return (yp-0.5)\n",
        "cons = ({'type':'ineq','fun':cons})\n",
        "\n",
        "cg = minimize(opt_target,x0=0.9,constraints=cons)\n",
        "\n",
        "\n",
        "yp_pred = cg.x[0]\n",
        "\n",
        "dl_1_temp = dl_1(t_temp,x_temp,yp_pred)\n",
        "dl_2_temp = dl_2(t_temp,x_temp,yp_pred)\n",
        "\n",
        "dl_1_temp\n"
      ],
      "execution_count": 50,
      "outputs": [
        {
          "output_type": "execute_result",
          "data": {
            "text/plain": [
              "-0.00012110146420919194"
            ]
          },
          "metadata": {
            "tags": []
          },
          "execution_count": 50
        }
      ]
    },
    {
      "cell_type": "code",
      "metadata": {
        "id": "jKJ2sh_JbbCv",
        "colab": {
          "base_uri": "https://localhost:8080/"
        },
        "outputId": "f07ec439-2200-45d6-be37-85c2ae8956ac"
      },
      "source": [
        "yp_pred"
      ],
      "execution_count": 47,
      "outputs": [
        {
          "output_type": "execute_result",
          "data": {
            "text/plain": [
              "1.0000322629636955"
            ]
          },
          "metadata": {
            "tags": []
          },
          "execution_count": 47
        }
      ]
    },
    {
      "cell_type": "code",
      "metadata": {
        "id": "w6lwPt8Hxrku"
      },
      "source": [
        ""
      ],
      "execution_count": null,
      "outputs": []
    }
  ]
}