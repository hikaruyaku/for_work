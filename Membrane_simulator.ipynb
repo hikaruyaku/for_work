{
  "nbformat": 4,
  "nbformat_minor": 0,
  "metadata": {
    "colab": {
      "name": "Untitled11.ipynb",
      "provenance": [],
      "authorship_tag": "ABX9TyPUiCQlBa17V07QMMbDGDbH",
      "include_colab_link": true
    },
    "kernelspec": {
      "name": "python3",
      "display_name": "Python 3"
    },
    "language_info": {
      "name": "python"
    }
  },
  "cells": [
    {
      "cell_type": "markdown",
      "metadata": {
        "id": "view-in-github",
        "colab_type": "text"
      },
      "source": [
        "<a href=\"https://colab.research.google.com/github/hikaruyaku/for_work/blob/master/Membrane_simulator.ipynb\" target=\"_parent\"><img src=\"https://colab.research.google.com/assets/colab-badge.svg\" alt=\"Open In Colab\"/></a>"
      ]
    },
    {
      "cell_type": "markdown",
      "metadata": {
        "id": "GjUZDNaSU6SU"
      },
      "source": [
        "# 膜分離モジュールのシミュレーター\n",
        "\n",
        "## 作成の経緯\n",
        "Excelのマクロで組んだらクソofクソの遅さなので，python で作成する．"
      ]
    },
    {
      "cell_type": "code",
      "metadata": {
        "id": "_M4EqwlxUy6V"
      },
      "source": [
        "# Import Libraries\n",
        "\n",
        "import pandas as pd\n",
        "import numpy as np\n",
        "import matplotlib.pyplot as plt\n",
        "import seaborn as sns\n",
        "import math\n",
        "from scipy.optimize import minimize"
      ],
      "execution_count": 1,
      "outputs": []
    },
    {
      "cell_type": "markdown",
      "metadata": {
        "id": "Y0pf5UboYQO_"
      },
      "source": [
        "## 使い方\n",
        "下の記入フォームを記載した後，`Ctrl + F9`を押す．"
      ]
    },
    {
      "cell_type": "code",
      "metadata": {
        "id": "9HAi5BqhVhZz",
        "cellView": "form"
      },
      "source": [
        "#@title 記入フォーム\n",
        "#@markdown 前提条件を記載してください．\n",
        "\n",
        "#@markdown フィード流量=kg/h, 初期温度=℃, 操作圧力 = kPaA\n",
        "\n",
        "\n",
        "膜の単位数 = 1000  #@param {type: \"slider\", min: 10, max: 1000}\n",
        "膜本数 = 5000  #@param {type: \"number\"}\n",
        "フィード流量 = 15000  #@param {type: \"number\"}\n",
        "水の重量濃度 = 0.53  #@param {type: \"number\"}\n",
        "初期温度 = 130  #@param {type: \"number\"}\n",
        "操作圧力_kPaA =   0.1#@param {type: \"number\"}\n",
        "\n",
        "#@markdown ---\n"
      ],
      "execution_count": 43,
      "outputs": []
    },
    {
      "cell_type": "markdown",
      "metadata": {
        "id": "fCqieNVuYZku"
      },
      "source": [
        "## 前提条件"
      ]
    },
    {
      "cell_type": "code",
      "metadata": {
        "id": "ZqndCuRCWD6n"
      },
      "source": [
        "# 物性\n",
        "## Antoine 定数\n",
        "A_h2o = 7.07\n",
        "B_h2o = 1657.46\n",
        "C_h2o = 227.02\n",
        "A_acoh = 6.42452\n",
        "B_acoh = 1479.02\n",
        "C_acoh = 216.81\n",
        "## wilson の活量係数\n",
        "Lambda_11 = 3351.51\n",
        "Lambda_12 = 29.6876\n",
        "## ガス透過係数\n",
        "Q_h2o = 5e-6\n",
        "Q_acoh = 1.25e-8\n",
        "## 膜厚\n",
        "sigma = 1e-5\n",
        "## 分子量\n",
        "mw_h2o = 18\n",
        "mw_acoh = 60\n",
        "## 顕熱[kJ/mol*K]\n",
        "Cp_h2o = 0.0756\n",
        "Cp_acoh = 0.1292\n",
        "## 潜熱[kJ/mol]\n",
        "h_h2o = 40.7\n",
        "h_acoh = 24.4\n",
        "## 活量係数\n",
        "gamma_h2o = 0.0003037\n",
        "gamma_acog = 0.22224"
      ],
      "execution_count": 50,
      "outputs": []
    },
    {
      "cell_type": "code",
      "metadata": {
        "id": "b2dWGqGzWGC_"
      },
      "source": [
        "# 膜特性\n",
        "ID = 0.012\n",
        "L = 0.7\n",
        "N = 膜本数\n",
        "length = L/膜の単位数\n",
        "\n",
        "# 膜の面積も出しちゃう\n",
        "dA = 0.012*math.pi*length"
      ],
      "execution_count": 51,
      "outputs": []
    },
    {
      "cell_type": "markdown",
      "metadata": {
        "id": "sKx0fL7VYdQ1"
      },
      "source": [
        "## 関数"
      ]
    },
    {
      "cell_type": "code",
      "metadata": {
        "id": "g7Hncoi0X4hw"
      },
      "source": [
        "# Antoineでの蒸気圧の出す関数\n",
        "\n",
        "def antoine_func(a,b,c,T):\n",
        "  p_ast = 10 ** (a-b/(c+T))\n",
        "  return p_ast\n",
        "\n",
        "# dL1 を出す関数\n",
        "def dl_1(Temp, x, yp):\n",
        "  dl_1 = -Q_h2o / sigma * ( gamma_h2o * antoine_func(A_h2o,B_h2o,C_h2o,Temp) * x - 操作圧力_kPaA * yp ) * dA\n",
        "  return dl_1\n",
        "# dL2 を出す関数\n",
        "def dl_2(Temp, x, yp):\n",
        "  dl_2 = -Q_acoh / sigma * ( gamma_h2o * antoine_func(A_acoh,B_acoh,C_acoh,Temp)*(1-x) - 操作圧力_kPaA * (1-yp) ) * dA\n",
        "  return dl_2\n",
        "\n",
        "# 蒸気透過後の温度を出す関数\n",
        "def temp_cal(l_h2o,l_acoh,v_h2o,v_acoh):\n",
        "  delta_temp = (v_h2o * h_h2o + v_acoh * h_acoh)/1000/(l_h2o * Cp_h2o + l_acoh * Cp_acoh)\n",
        "  return delta_temp"
      ],
      "execution_count": 52,
      "outputs": []
    },
    {
      "cell_type": "markdown",
      "metadata": {
        "id": "AE902JeGdcbM"
      },
      "source": [
        "## 本計算\n",
        "- 本計算は `for`文を用いた繰り返し計算を行う．\n",
        "- また `for` 文内で，マテリアルバランスの式と膜透過の式の連立方程式を解く．\n",
        "\n",
        "$$\n",
        "\\begin{eqnarray}\n",
        "\\frac{dL_1}{dA} &=& -\\frac{Q_1}{\\sigma}(\\gamma_1 p_1^*x - p_1y_p)  \\\\\n",
        "\\frac{dL_2}{dA} &=& -\\frac{Q_2}{\\sigma}(\\gamma_2 p_2^*(1-x) - p_1(1-y_p)) \\\\\n",
        "(dL_1 + dL_2)  y_p &=& dL_1\n",
        "\\end{eqnarray}\n",
        "$$\n",
        "\n",
        "上記の3つの式を用いると\n",
        "\n",
        "$$\n",
        "[\\frac{Q_1}{\\sigma}((\\gamma_1 p_1^*x - p_1y_p)dA+\\frac{Q_2}{\\sigma}(\\gamma_2 p_2^*(1-x) - p_1(1-y_p))]dAy_p = \\frac{Q_1}{\\sigma}(\\gamma_1 p_1^*x - p_1y_p)dA\n",
        "$$\n",
        "\n",
        "$y_p$に関する2次関数が出来る．  \n",
        "これが0になるように収束計算を行う．"
      ]
    },
    {
      "cell_type": "code",
      "metadata": {
        "id": "a8Dd0NqmX6PD"
      },
      "source": [
        "mass_frac_h2o = 水の重量濃度\n",
        "feed = フィード流量\n",
        "\n",
        "t_temp = 初期温度\n",
        "# 組成を計算\n",
        "l_h2o_temp = mass_frac_h2o * feed * 1000 / mw_h2o\n",
        "l_acoh_temp = (1-mass_frac_h2o)*feed * 1000 / mw_acoh\n",
        "\n",
        "results = [l_h2o_temp,l_acoh_temp,t_temp,0,0,0]\n",
        "\n",
        "for i in range(膜の単位数):\n",
        "  # 各温度での蒸気圧を推算\n",
        "  p_1_ast_temp = antoine_func(A_h2o,B_h2o,C_h2o,t_temp) \n",
        "  p_2_ast_temp = antoine_func(A_acoh,B_acoh,C_acoh,t_temp)\n",
        "  # 組成を計算\n",
        "  x_temp = l_h2o_temp/(l_h2o_temp + l_acoh_temp)\n",
        "  # 最小化するモデルの関数を作成\n",
        "  def opt_target(yp):\n",
        "    return ((yp * (dl_1(t_temp,x_temp,yp)+dl_2(t_temp,x_temp,yp)) - dl_1(t_temp,x_temp,yp))*10e+6)**2 # 2乗にすることで，最小値を0以上にする．\n",
        "  # 制約条件を宣言\n",
        "  def cons(yp):\n",
        "    return (-yp+1)\n",
        "  cons = ({'type':'ineq','fun':cons})\n",
        "  # 最小化を実行\n",
        "  cg = minimize(opt_target,x0=0.9,constraints=cons)\n",
        "  # 実施したものからyp_predを抜出．\n",
        "  yp_pred = cg.x[0]\n",
        "  # 蒸気として透過した分を計算\n",
        "  dl_1_temp = dl_1(t_temp,x_temp,yp_pred)\n",
        "  dl_2_temp = dl_2(t_temp,x_temp,yp_pred)\n",
        "  # 蒸気透過して液として残存した分を計算して x_temp を更新\n",
        "  l_h2o_temp = l_h2o_temp - dl_1_temp\n",
        "  l_acoh_temp = l_acoh_temp - dl_2_temp\n",
        "  # 温度現状分を加味して t_temp を更新\n",
        "  t_temp = t_temp - temp_cal(l_h2o_temp,l_acoh_temp,dl_1_temp,dl_2_temp)\n",
        "  # 内容を格納\n",
        "  results_temp = [l_h2o_temp,l_acoh_temp,t_temp,dl_1_temp,dl_2_temp,yp_pred]\n",
        "  results = np.vstack([results, results_temp])\n",
        "\n",
        "df = pd.DataFrame(results)\n",
        "df.columns = [\"L_H2O\",\"L_AcOH\",\"Temp.\",\"V_H2O\",\"V_AcOH\",\"yp\"]"
      ],
      "execution_count": 53,
      "outputs": []
    },
    {
      "cell_type": "code",
      "metadata": {
        "id": "jKJ2sh_JbbCv",
        "colab": {
          "base_uri": "https://localhost:8080/",
          "height": 419
        },
        "outputId": "48165372-0b93-4ef1-e8b4-91ad2fe1a053"
      },
      "source": [
        "df\n"
      ],
      "execution_count": 54,
      "outputs": [
        {
          "output_type": "execute_result",
          "data": {
            "text/html": [
              "<div>\n",
              "<style scoped>\n",
              "    .dataframe tbody tr th:only-of-type {\n",
              "        vertical-align: middle;\n",
              "    }\n",
              "\n",
              "    .dataframe tbody tr th {\n",
              "        vertical-align: top;\n",
              "    }\n",
              "\n",
              "    .dataframe thead th {\n",
              "        text-align: right;\n",
              "    }\n",
              "</style>\n",
              "<table border=\"1\" class=\"dataframe\">\n",
              "  <thead>\n",
              "    <tr style=\"text-align: right;\">\n",
              "      <th></th>\n",
              "      <th>L_H2O</th>\n",
              "      <th>L_AcOH</th>\n",
              "      <th>Temp.</th>\n",
              "      <th>V_H2O</th>\n",
              "      <th>V_AcOH</th>\n",
              "      <th>yp</th>\n",
              "    </tr>\n",
              "  </thead>\n",
              "  <tbody>\n",
              "    <tr>\n",
              "      <th>0</th>\n",
              "      <td>441666.666667</td>\n",
              "      <td>117500.0</td>\n",
              "      <td>130.0</td>\n",
              "      <td>0.000000e+00</td>\n",
              "      <td>0.000000e+00</td>\n",
              "      <td>0.0</td>\n",
              "    </tr>\n",
              "    <tr>\n",
              "      <th>1</th>\n",
              "      <td>441666.666666</td>\n",
              "      <td>117500.0</td>\n",
              "      <td>130.0</td>\n",
              "      <td>4.724126e-07</td>\n",
              "      <td>-3.042005e-10</td>\n",
              "      <td>1.0</td>\n",
              "    </tr>\n",
              "    <tr>\n",
              "      <th>2</th>\n",
              "      <td>441666.666666</td>\n",
              "      <td>117500.0</td>\n",
              "      <td>130.0</td>\n",
              "      <td>4.724126e-07</td>\n",
              "      <td>-3.042005e-10</td>\n",
              "      <td>1.0</td>\n",
              "    </tr>\n",
              "    <tr>\n",
              "      <th>3</th>\n",
              "      <td>441666.666665</td>\n",
              "      <td>117500.0</td>\n",
              "      <td>130.0</td>\n",
              "      <td>4.724126e-07</td>\n",
              "      <td>-3.042005e-10</td>\n",
              "      <td>1.0</td>\n",
              "    </tr>\n",
              "    <tr>\n",
              "      <th>4</th>\n",
              "      <td>441666.666665</td>\n",
              "      <td>117500.0</td>\n",
              "      <td>130.0</td>\n",
              "      <td>4.724126e-07</td>\n",
              "      <td>-3.042005e-10</td>\n",
              "      <td>1.0</td>\n",
              "    </tr>\n",
              "    <tr>\n",
              "      <th>...</th>\n",
              "      <td>...</td>\n",
              "      <td>...</td>\n",
              "      <td>...</td>\n",
              "      <td>...</td>\n",
              "      <td>...</td>\n",
              "      <td>...</td>\n",
              "    </tr>\n",
              "    <tr>\n",
              "      <th>996</th>\n",
              "      <td>441666.666196</td>\n",
              "      <td>117500.0</td>\n",
              "      <td>130.0</td>\n",
              "      <td>4.724126e-07</td>\n",
              "      <td>-3.042005e-10</td>\n",
              "      <td>1.0</td>\n",
              "    </tr>\n",
              "    <tr>\n",
              "      <th>997</th>\n",
              "      <td>441666.666196</td>\n",
              "      <td>117500.0</td>\n",
              "      <td>130.0</td>\n",
              "      <td>4.724126e-07</td>\n",
              "      <td>-3.042005e-10</td>\n",
              "      <td>1.0</td>\n",
              "    </tr>\n",
              "    <tr>\n",
              "      <th>998</th>\n",
              "      <td>441666.666195</td>\n",
              "      <td>117500.0</td>\n",
              "      <td>130.0</td>\n",
              "      <td>4.724126e-07</td>\n",
              "      <td>-3.042005e-10</td>\n",
              "      <td>1.0</td>\n",
              "    </tr>\n",
              "    <tr>\n",
              "      <th>999</th>\n",
              "      <td>441666.666195</td>\n",
              "      <td>117500.0</td>\n",
              "      <td>130.0</td>\n",
              "      <td>4.724126e-07</td>\n",
              "      <td>-3.042005e-10</td>\n",
              "      <td>1.0</td>\n",
              "    </tr>\n",
              "    <tr>\n",
              "      <th>1000</th>\n",
              "      <td>441666.666194</td>\n",
              "      <td>117500.0</td>\n",
              "      <td>130.0</td>\n",
              "      <td>4.724126e-07</td>\n",
              "      <td>-3.042005e-10</td>\n",
              "      <td>1.0</td>\n",
              "    </tr>\n",
              "  </tbody>\n",
              "</table>\n",
              "<p>1001 rows × 6 columns</p>\n",
              "</div>"
            ],
            "text/plain": [
              "              L_H2O    L_AcOH  Temp.         V_H2O        V_AcOH   yp\n",
              "0     441666.666667  117500.0  130.0  0.000000e+00  0.000000e+00  0.0\n",
              "1     441666.666666  117500.0  130.0  4.724126e-07 -3.042005e-10  1.0\n",
              "2     441666.666666  117500.0  130.0  4.724126e-07 -3.042005e-10  1.0\n",
              "3     441666.666665  117500.0  130.0  4.724126e-07 -3.042005e-10  1.0\n",
              "4     441666.666665  117500.0  130.0  4.724126e-07 -3.042005e-10  1.0\n",
              "...             ...       ...    ...           ...           ...  ...\n",
              "996   441666.666196  117500.0  130.0  4.724126e-07 -3.042005e-10  1.0\n",
              "997   441666.666196  117500.0  130.0  4.724126e-07 -3.042005e-10  1.0\n",
              "998   441666.666195  117500.0  130.0  4.724126e-07 -3.042005e-10  1.0\n",
              "999   441666.666195  117500.0  130.0  4.724126e-07 -3.042005e-10  1.0\n",
              "1000  441666.666194  117500.0  130.0  4.724126e-07 -3.042005e-10  1.0\n",
              "\n",
              "[1001 rows x 6 columns]"
            ]
          },
          "metadata": {
            "tags": []
          },
          "execution_count": 54
        }
      ]
    },
    {
      "cell_type": "code",
      "metadata": {
        "id": "1xhpRbEi_Mo5",
        "outputId": "f4da3bdf-3aed-4c2f-b6b1-ebc6a9ed740e",
        "colab": {
          "base_uri": "https://localhost:8080/",
          "height": 293
        }
      },
      "source": [
        "sns.scatterplot(x=range(1001),y=df.iloc[:,0])"
      ],
      "execution_count": 56,
      "outputs": [
        {
          "output_type": "execute_result",
          "data": {
            "text/plain": [
              "<matplotlib.axes._subplots.AxesSubplot at 0x7fb86b428950>"
            ]
          },
          "metadata": {
            "tags": []
          },
          "execution_count": 56
        },
        {
          "output_type": "display_data",
          "data": {
            "image/png": "[encoded data removed]",
            "text/plain": [
              "<Figure size 432x288 with 1 Axes>"
            ]
          },
          "metadata": {
            "tags": [],
            "needs_background": "light"
          }
        }
      ]
    },
    {
      "cell_type": "code",
      "metadata": {
        "id": "l66K2pK4_2CY",
        "outputId": "b97e5988-5b50-4273-92d5-8dfb6e7cea33",
        "colab": {
          "base_uri": "https://localhost:8080/"
        }
      },
      "source": [
        "print(df.index)"
      ],
      "execution_count": 41,
      "outputs": [
        {
          "output_type": "stream",
          "text": [
            "RangeIndex(start=0, stop=1001, step=1)\n"
          ],
          "name": "stdout"
        }
      ]
    },
    {
      "cell_type": "code",
      "metadata": {
        "id": "Se0LUztcAK4m"
      },
      "source": [
        ""
      ],
      "execution_count": null,
      "outputs": []
    }
  ]
}